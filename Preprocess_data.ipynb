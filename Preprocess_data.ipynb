{
 "cells": [
  {
   "cell_type": "markdown",
   "metadata": {},
   "source": [
    "### Short description of model preprocessing \n",
    "\n",
    "- Divide on parts\n",
    "    - Why we add 195 after all\n",
    "    - delay between EEG and fMRI. Which one? \n",
    "- Make sFFT on eeg\n",
    "    - 2-19 WHy only thes freq. \n",
    "    - nperseg is 400 &&\n",
    "- Make interpolation of fMRI\n",
    "- dataset i\n",
    "\n",
    "### Cons ( Minus )\n",
    "- linear combination of amplitude features. Why don't use phase information\n",
    "- No linear is may be better\n",
    "- Different models for different zones (ROI of fMRI )\n",
    "Work independently. No time consistency\n",
    "- FMRI depend not only EEG but of course on previous inforamtion \n",
    "- This was my error when i work on decoding problem. \n",
    "- ALSO. different areas of MRI can influence on each other. \n",
    "\n",
    "\n",
    "\n",
    "### Approaches\n",
    "Some alterantive of attention is quite interersting for this task. Because we can understand how different region related and which activivty in which time affect on signals\n",
    "\n",
    "Data augmentation\n",
    "- Add noise \n",
    "- Add noise in freq\n",
    "    - Channel wise\n",
    "    - Time wise\n",
    "    - there is paper with it .  inpainting.\n",
    "- Make channel flip !!?\n",
    "- \n",
    "\n",
    "Regularization\n",
    "- L1 it allows get sparse matrix \n",
    "- Of course dropout\n",
    "\n",
    "Extra note\n",
    "- Solve no regression but classification problem \n",
    "\n",
    "**NOTE**. Based on EEG activity we can predict not precisely activity od small region but distriution of energy. For example. Classify which region is active.\n",
    "Multiclass multi object. classification. Interresting yeh.\n",
    "We can begin with simple softmax on the last layer. \n"
   ]
  },
  {
   "cell_type": "code",
   "execution_count": null,
   "metadata": {},
   "outputs": [],
   "source": []
  },
  {
   "cell_type": "code",
   "execution_count": 1,
   "metadata": {},
   "outputs": [],
   "source": [
    "import sys\n",
    "import sklearn\n",
    "import mne\n",
    "\n",
    "from nilearn import image\n",
    "import numpy as np\n",
    "import matplotlib.pyplot as plt\n",
    "\n",
    "\n",
    "#my codes \n",
    "from fMRI_Regions import get_masked_fmri\n",
    "import original_input\n",
    "import make_input"
   ]
  },
  {
   "cell_type": "code",
   "execution_count": 5,
   "metadata": {},
   "outputs": [
    {
     "data": {
      "text/plain": [
       "0.01"
      ]
     },
     "execution_count": 5,
     "metadata": {},
     "output_type": "execute_result"
    }
   ],
   "source": []
  },
  {
   "cell_type": "code",
   "execution_count": 2,
   "metadata": {},
   "outputs": [],
   "source": [
    "eeg_path = '../data/eeg_fmri_data_trio_four_subjects/eeg_on/eeg_on_1.edf'\n",
    "fmri_path = '../data/eeg_fmri_data_trio_four_subjects/fmri_on/fmri_on_1.nii'\n",
    "\n",
    "args = {'start_time': 0, \n",
    "        'end_time': 10, \n",
    "        'delay': 1, \n",
    "        'fmri_end': 10,\n",
    "        'eeg_path': eeg_path,\n",
    "        'fmri_path': fmri_path}"
   ]
  },
  {
   "cell_type": "markdown",
   "metadata": {},
   "source": [
    "## Read RAW files files"
   ]
  },
  {
   "cell_type": "markdown",
   "metadata": {},
   "source": [
    "\n",
    "\n",
    "\n",
    "Ощущение колхозности не отсутпает от меняю "
   ]
  },
  {
   "cell_type": "code",
   "execution_count": null,
   "metadata": {},
   "outputs": [],
   "source": []
  },
  {
   "cell_type": "code",
   "execution_count": 18,
   "metadata": {},
   "outputs": [],
   "source": [
    "from preprocessing import eeg_transform, fmri_transform"
   ]
  },
  {
   "cell_type": "code",
   "execution_count": 24,
   "metadata": {},
   "outputs": [],
   "source": [
    "segment_length = 16384\n",
    "def create_dataset(start_time, end_time, delay, fmri_end, eeg_path, fmri_path):\n",
    "    vector_exclude = ['EOG', 'ECG', 'CW1', 'CW2', 'CW3', 'CW4', 'CW5', 'CW6', 'Status']\n",
    "    raw = mne.io.read_raw_edf(eeg_path, exclude=vector_exclude)\n",
    "    eeg = raw.get_data()\n",
    "    eeg = mne.filter.filter_data(eeg, sfreq=1000, l_freq=5, h_freq=100)\n",
    "    print('step1', eeg.shape)\n",
    "    \n",
    "    eeg_flip = np.fliplr(eeg)\n",
    "    fmri_im = image.smooth_img(fmri_path, fwhm=6)\n",
    "    fmri = get_masked_fmri(fmri_im, \"sub\")\n",
    "    print('step2', fmri.shape)\n",
    "    \n",
    "    start = start_time\n",
    "    end = start_time + segment_length\n",
    "    x_list = []\n",
    "    y_list = []\n",
    "    x_fl_list = []\n",
    "    while end < eeg.shape[1] and end <= fmri_end and end < end_time:\n",
    "        signal = eeg[..., start:end]\n",
    "#         print(signal.shape)\n",
    "        signal_flip = eeg_flip[..., start:end]\n",
    "        x = eeg_transform(signal)\n",
    "        y = fmri_transform(end, fmri, delay, fmri_end)\n",
    "        x1 = eeg_transform(signal_flip)\n",
    "        x_list.append(x)\n",
    "        y_list.append(y)\n",
    "        x_fl_list.append(x1)\n",
    "        # why 195. What is it???\n",
    "        start += 195\n",
    "        end += 195\n",
    "    x_list = np.array(x_list)\n",
    "    x_fl_list = np.array(x_fl_list)\n",
    "    y_list = np.array(y_list)\n",
    "    return x_list, y_list, x_fl_list\n"
   ]
  },
  {
   "cell_type": "code",
   "execution_count": 25,
   "metadata": {},
   "outputs": [
    {
     "name": "stdout",
     "output_type": "stream",
     "text": [
      "Extracting EDF parameters from D:\\Work\\HSE_project\\EEG_fMRI\\data\\eeg_fmri_data_trio_four_subjects\\eeg_on\\eeg_on_1.edf...\n",
      "EDF file detected\n",
      "Setting channel info structure...\n",
      "Creating raw.info structure...\n",
      "Setting up band-pass filter from 5 - 1e+02 Hz\n",
      "\n",
      "FIR filter parameters\n",
      "---------------------\n",
      "Designing a one-pass, zero-phase, non-causal bandpass filter:\n",
      "- Windowed time-domain design (firwin) method\n",
      "- Hamming window with 0.0194 passband ripple and 53 dB stopband attenuation\n",
      "- Lower passband edge: 5.00\n",
      "- Lower transition bandwidth: 2.00 Hz (-6 dB cutoff frequency: 4.00 Hz)\n",
      "- Upper passband edge: 100.00 Hz\n",
      "- Upper transition bandwidth: 25.00 Hz (-6 dB cutoff frequency: 112.50 Hz)\n",
      "- Filter length: 1651 samples (1.651 sec)\n",
      "\n",
      "step1 (30, 305000)\n",
      "step2 (150, 21)\n",
      "(429, 30, 17, 60) (429, 21) (429, 30, 17, 60)\n"
     ]
    }
   ],
   "source": [
    "args = {'start_time': 0, \n",
    "        'end_time': 100000, \n",
    "        'delay': 0, \n",
    "        'fmri_end': 100000,\n",
    "        'eeg_path': eeg_path,\n",
    "        'fmri_path': fmri_path}\n",
    "x_list, y_list, x_fl_list = create_dataset(**args)\n",
    "print(x_list.shape, y_list.shape, x_fl_list.shape)"
   ]
  },
  {
   "cell_type": "code",
   "execution_count": 30,
   "metadata": {},
   "outputs": [
    {
     "data": {
      "text/plain": [
       "(30, 10)"
      ]
     },
     "execution_count": 30,
     "metadata": {},
     "output_type": "execute_result"
    }
   ],
   "source": [
    "eeg[..., 10:20].shape"
   ]
  },
  {
   "cell_type": "code",
   "execution_count": null,
   "metadata": {},
   "outputs": [],
   "source": []
  },
  {
   "cell_type": "code",
   "execution_count": null,
   "metadata": {},
   "outputs": [],
   "source": []
  },
  {
   "cell_type": "code",
   "execution_count": 3,
   "metadata": {},
   "outputs": [
    {
     "name": "stdout",
     "output_type": "stream",
     "text": [
      "Extracting EDF parameters from D:\\Work\\HSE_project\\EEG_fMRI\\data\\eeg_fmri_data_trio_four_subjects\\eeg_on\\eeg_on_1.edf...\n",
      "EDF file detected\n",
      "Setting channel info structure...\n",
      "Creating raw.info structure...\n",
      "Setting up band-pass filter from 5 - 1e+02 Hz\n",
      "\n",
      "FIR filter parameters\n",
      "---------------------\n",
      "Designing a one-pass, zero-phase, non-causal bandpass filter:\n",
      "- Windowed time-domain design (firwin) method\n",
      "- Hamming window with 0.0194 passband ripple and 53 dB stopband attenuation\n",
      "- Lower passband edge: 5.00\n",
      "- Lower transition bandwidth: 2.00 Hz (-6 dB cutoff frequency: 4.00 Hz)\n",
      "- Upper passband edge: 100.00 Hz\n",
      "- Upper transition bandwidth: 25.00 Hz (-6 dB cutoff frequency: 112.50 Hz)\n",
      "- Filter length: 1651 samples (1.651 sec)\n",
      "\n"
     ]
    }
   ],
   "source": [
    "creater = make_input.Dataset()\n",
    "x_list, y_list, x_fl_list = creater.create_dataset(**args)\n"
   ]
  },
  {
   "cell_type": "code",
   "execution_count": 4,
   "metadata": {},
   "outputs": [
    {
     "name": "stdout",
     "output_type": "stream",
     "text": [
      "[] (0,) (0,)\n"
     ]
    }
   ],
   "source": [
    "print(x_list, y_list.shape, x_fl_list.shape)"
   ]
  }
 ],
 "metadata": {
  "kernelspec": {
   "display_name": "brain_TF",
   "language": "python",
   "name": "brain_tf"
  },
  "language_info": {
   "codemirror_mode": {
    "name": "ipython",
    "version": 3
   },
   "file_extension": ".py",
   "mimetype": "text/x-python",
   "name": "python",
   "nbconvert_exporter": "python",
   "pygments_lexer": "ipython3",
   "version": "3.8.3"
  }
 },
 "nbformat": 4,
 "nbformat_minor": 4
}
